{
 "cells": [
  {
   "cell_type": "code",
   "execution_count": 1,
   "id": "06b70e98",
   "metadata": {
    "execution": {
     "iopub.execute_input": "2025-07-10T09:24:41.837278Z",
     "iopub.status.busy": "2025-07-10T09:24:41.836954Z",
     "iopub.status.idle": "2025-07-10T09:24:47.252772Z",
     "shell.execute_reply": "2025-07-10T09:24:47.251865Z"
    },
    "papermill": {
     "duration": 5.424722,
     "end_time": "2025-07-10T09:24:47.254631",
     "exception": false,
     "start_time": "2025-07-10T09:24:41.829909",
     "status": "completed"
    },
    "tags": []
   },
   "outputs": [],
   "source": [
    "import pandas as pd\n",
    "import seaborn as sns\n",
    "import matplotlib.pyplot as plt\n",
    "import numpy as np\n",
    "import plotly.express as px\n",
    "from sklearn.model_selection import train_test_split\n",
    "from sklearn.preprocessing import LabelEncoder,StandardScaler,OneHotEncoder\n",
    "from sklearn.linear_model import LinearRegression\n",
    "from sklearn.ensemble import RandomForestRegressor, GradientBoostingRegressor\n",
    "import warnings\n",
    "warnings.filterwarnings(\"ignore\")"
   ]
  },
  {
   "cell_type": "markdown",
   "id": "14049b05",
   "metadata": {
    "papermill": {
     "duration": 0.004189,
     "end_time": "2025-07-10T09:24:47.264015",
     "exception": false,
     "start_time": "2025-07-10T09:24:47.259826",
     "status": "completed"
    },
    "tags": []
   },
   "source": [
    "# Project \n",
    "## Prediction Podcast Listening Time "
   ]
  },
  {
   "cell_type": "code",
   "execution_count": 2,
   "id": "df23ed1d",
   "metadata": {
    "execution": {
     "iopub.execute_input": "2025-07-10T09:24:47.274373Z",
     "iopub.status.busy": "2025-07-10T09:24:47.273278Z",
     "iopub.status.idle": "2025-07-10T09:24:49.827048Z",
     "shell.execute_reply": "2025-07-10T09:24:49.826161Z"
    },
    "papermill": {
     "duration": 2.560624,
     "end_time": "2025-07-10T09:24:49.828851",
     "exception": false,
     "start_time": "2025-07-10T09:24:47.268227",
     "status": "completed"
    },
    "tags": []
   },
   "outputs": [],
   "source": [
    "train=pd.read_csv(r\"/kaggle/input/playground-series-s5e4/train.csv\")\n",
    "test=pd.read_csv(r\"/kaggle/input/playground-series-s5e4/test.csv\")\n",
    "submission=pd.read_csv(r\"/kaggle/input/playground-series-s5e4/sample_submission.csv\")"
   ]
  },
  {
   "cell_type": "markdown",
   "id": "a39f4d7e",
   "metadata": {
    "papermill": {
     "duration": 0.004285,
     "end_time": "2025-07-10T09:24:49.837607",
     "exception": false,
     "start_time": "2025-07-10T09:24:49.833322",
     "status": "completed"
    },
    "tags": []
   },
   "source": [
    "# Data INFO "
   ]
  },
  {
   "cell_type": "code",
   "execution_count": 3,
   "id": "286dc3c1",
   "metadata": {
    "execution": {
     "iopub.execute_input": "2025-07-10T09:24:49.847592Z",
     "iopub.status.busy": "2025-07-10T09:24:49.847253Z",
     "iopub.status.idle": "2025-07-10T09:24:49.876093Z",
     "shell.execute_reply": "2025-07-10T09:24:49.875215Z"
    },
    "papermill": {
     "duration": 0.035439,
     "end_time": "2025-07-10T09:24:49.877579",
     "exception": false,
     "start_time": "2025-07-10T09:24:49.842140",
     "status": "completed"
    },
    "tags": []
   },
   "outputs": [
    {
     "data": {
      "text/html": [
       "<div>\n",
       "<style scoped>\n",
       "    .dataframe tbody tr th:only-of-type {\n",
       "        vertical-align: middle;\n",
       "    }\n",
       "\n",
       "    .dataframe tbody tr th {\n",
       "        vertical-align: top;\n",
       "    }\n",
       "\n",
       "    .dataframe thead th {\n",
       "        text-align: right;\n",
       "    }\n",
       "</style>\n",
       "<table border=\"1\" class=\"dataframe\">\n",
       "  <thead>\n",
       "    <tr style=\"text-align: right;\">\n",
       "      <th></th>\n",
       "      <th>id</th>\n",
       "      <th>Podcast_Name</th>\n",
       "      <th>Episode_Title</th>\n",
       "      <th>Episode_Length_minutes</th>\n",
       "      <th>Genre</th>\n",
       "      <th>Host_Popularity_percentage</th>\n",
       "      <th>Publication_Day</th>\n",
       "      <th>Publication_Time</th>\n",
       "      <th>Guest_Popularity_percentage</th>\n",
       "      <th>Number_of_Ads</th>\n",
       "      <th>Episode_Sentiment</th>\n",
       "      <th>Listening_Time_minutes</th>\n",
       "    </tr>\n",
       "  </thead>\n",
       "  <tbody>\n",
       "    <tr>\n",
       "      <th>0</th>\n",
       "      <td>0</td>\n",
       "      <td>Mystery Matters</td>\n",
       "      <td>Episode 98</td>\n",
       "      <td>NaN</td>\n",
       "      <td>True Crime</td>\n",
       "      <td>74.81</td>\n",
       "      <td>Thursday</td>\n",
       "      <td>Night</td>\n",
       "      <td>NaN</td>\n",
       "      <td>0.0</td>\n",
       "      <td>Positive</td>\n",
       "      <td>31.41998</td>\n",
       "    </tr>\n",
       "    <tr>\n",
       "      <th>1</th>\n",
       "      <td>1</td>\n",
       "      <td>Joke Junction</td>\n",
       "      <td>Episode 26</td>\n",
       "      <td>119.80</td>\n",
       "      <td>Comedy</td>\n",
       "      <td>66.95</td>\n",
       "      <td>Saturday</td>\n",
       "      <td>Afternoon</td>\n",
       "      <td>75.95</td>\n",
       "      <td>2.0</td>\n",
       "      <td>Negative</td>\n",
       "      <td>88.01241</td>\n",
       "    </tr>\n",
       "    <tr>\n",
       "      <th>2</th>\n",
       "      <td>2</td>\n",
       "      <td>Study Sessions</td>\n",
       "      <td>Episode 16</td>\n",
       "      <td>73.90</td>\n",
       "      <td>Education</td>\n",
       "      <td>69.97</td>\n",
       "      <td>Tuesday</td>\n",
       "      <td>Evening</td>\n",
       "      <td>8.97</td>\n",
       "      <td>0.0</td>\n",
       "      <td>Negative</td>\n",
       "      <td>44.92531</td>\n",
       "    </tr>\n",
       "    <tr>\n",
       "      <th>3</th>\n",
       "      <td>3</td>\n",
       "      <td>Digital Digest</td>\n",
       "      <td>Episode 45</td>\n",
       "      <td>67.17</td>\n",
       "      <td>Technology</td>\n",
       "      <td>57.22</td>\n",
       "      <td>Monday</td>\n",
       "      <td>Morning</td>\n",
       "      <td>78.70</td>\n",
       "      <td>2.0</td>\n",
       "      <td>Positive</td>\n",
       "      <td>46.27824</td>\n",
       "    </tr>\n",
       "    <tr>\n",
       "      <th>4</th>\n",
       "      <td>4</td>\n",
       "      <td>Mind &amp; Body</td>\n",
       "      <td>Episode 86</td>\n",
       "      <td>110.51</td>\n",
       "      <td>Health</td>\n",
       "      <td>80.07</td>\n",
       "      <td>Monday</td>\n",
       "      <td>Afternoon</td>\n",
       "      <td>58.68</td>\n",
       "      <td>3.0</td>\n",
       "      <td>Neutral</td>\n",
       "      <td>75.61031</td>\n",
       "    </tr>\n",
       "  </tbody>\n",
       "</table>\n",
       "</div>"
      ],
      "text/plain": [
       "   id     Podcast_Name Episode_Title  Episode_Length_minutes       Genre  \\\n",
       "0   0  Mystery Matters    Episode 98                     NaN  True Crime   \n",
       "1   1    Joke Junction    Episode 26                  119.80      Comedy   \n",
       "2   2   Study Sessions    Episode 16                   73.90   Education   \n",
       "3   3   Digital Digest    Episode 45                   67.17  Technology   \n",
       "4   4      Mind & Body    Episode 86                  110.51      Health   \n",
       "\n",
       "   Host_Popularity_percentage Publication_Day Publication_Time  \\\n",
       "0                       74.81        Thursday            Night   \n",
       "1                       66.95        Saturday        Afternoon   \n",
       "2                       69.97         Tuesday          Evening   \n",
       "3                       57.22          Monday          Morning   \n",
       "4                       80.07          Monday        Afternoon   \n",
       "\n",
       "   Guest_Popularity_percentage  Number_of_Ads Episode_Sentiment  \\\n",
       "0                          NaN            0.0          Positive   \n",
       "1                        75.95            2.0          Negative   \n",
       "2                         8.97            0.0          Negative   \n",
       "3                        78.70            2.0          Positive   \n",
       "4                        58.68            3.0           Neutral   \n",
       "\n",
       "   Listening_Time_minutes  \n",
       "0                31.41998  \n",
       "1                88.01241  \n",
       "2                44.92531  \n",
       "3                46.27824  \n",
       "4                75.61031  "
      ]
     },
     "execution_count": 3,
     "metadata": {},
     "output_type": "execute_result"
    }
   ],
   "source": [
    "train.head()"
   ]
  },
  {
   "cell_type": "code",
   "execution_count": 4,
   "id": "b0e78d27",
   "metadata": {
    "execution": {
     "iopub.execute_input": "2025-07-10T09:24:49.888248Z",
     "iopub.status.busy": "2025-07-10T09:24:49.887947Z",
     "iopub.status.idle": "2025-07-10T09:24:49.893675Z",
     "shell.execute_reply": "2025-07-10T09:24:49.892670Z"
    },
    "papermill": {
     "duration": 0.012807,
     "end_time": "2025-07-10T09:24:49.895064",
     "exception": false,
     "start_time": "2025-07-10T09:24:49.882257",
     "status": "completed"
    },
    "tags": []
   },
   "outputs": [
    {
     "data": {
      "text/plain": [
       "(750000, 12)"
      ]
     },
     "execution_count": 4,
     "metadata": {},
     "output_type": "execute_result"
    }
   ],
   "source": [
    "train.shape"
   ]
  },
  {
   "cell_type": "code",
   "execution_count": 5,
   "id": "cf93911c",
   "metadata": {
    "execution": {
     "iopub.execute_input": "2025-07-10T09:24:49.906475Z",
     "iopub.status.busy": "2025-07-10T09:24:49.906155Z",
     "iopub.status.idle": "2025-07-10T09:24:49.919519Z",
     "shell.execute_reply": "2025-07-10T09:24:49.918643Z"
    },
    "papermill": {
     "duration": 0.020092,
     "end_time": "2025-07-10T09:24:49.920845",
     "exception": false,
     "start_time": "2025-07-10T09:24:49.900753",
     "status": "completed"
    },
    "tags": []
   },
   "outputs": [
    {
     "data": {
      "text/html": [
       "<div>\n",
       "<style scoped>\n",
       "    .dataframe tbody tr th:only-of-type {\n",
       "        vertical-align: middle;\n",
       "    }\n",
       "\n",
       "    .dataframe tbody tr th {\n",
       "        vertical-align: top;\n",
       "    }\n",
       "\n",
       "    .dataframe thead th {\n",
       "        text-align: right;\n",
       "    }\n",
       "</style>\n",
       "<table border=\"1\" class=\"dataframe\">\n",
       "  <thead>\n",
       "    <tr style=\"text-align: right;\">\n",
       "      <th></th>\n",
       "      <th>id</th>\n",
       "      <th>Podcast_Name</th>\n",
       "      <th>Episode_Title</th>\n",
       "      <th>Episode_Length_minutes</th>\n",
       "      <th>Genre</th>\n",
       "      <th>Host_Popularity_percentage</th>\n",
       "      <th>Publication_Day</th>\n",
       "      <th>Publication_Time</th>\n",
       "      <th>Guest_Popularity_percentage</th>\n",
       "      <th>Number_of_Ads</th>\n",
       "      <th>Episode_Sentiment</th>\n",
       "    </tr>\n",
       "  </thead>\n",
       "  <tbody>\n",
       "    <tr>\n",
       "      <th>0</th>\n",
       "      <td>750000</td>\n",
       "      <td>Educational Nuggets</td>\n",
       "      <td>Episode 73</td>\n",
       "      <td>78.96</td>\n",
       "      <td>Education</td>\n",
       "      <td>38.11</td>\n",
       "      <td>Saturday</td>\n",
       "      <td>Evening</td>\n",
       "      <td>53.33</td>\n",
       "      <td>1.0</td>\n",
       "      <td>Neutral</td>\n",
       "    </tr>\n",
       "    <tr>\n",
       "      <th>1</th>\n",
       "      <td>750001</td>\n",
       "      <td>Sound Waves</td>\n",
       "      <td>Episode 23</td>\n",
       "      <td>27.87</td>\n",
       "      <td>Music</td>\n",
       "      <td>71.29</td>\n",
       "      <td>Sunday</td>\n",
       "      <td>Morning</td>\n",
       "      <td>NaN</td>\n",
       "      <td>0.0</td>\n",
       "      <td>Neutral</td>\n",
       "    </tr>\n",
       "    <tr>\n",
       "      <th>2</th>\n",
       "      <td>750002</td>\n",
       "      <td>Joke Junction</td>\n",
       "      <td>Episode 11</td>\n",
       "      <td>69.10</td>\n",
       "      <td>Comedy</td>\n",
       "      <td>67.89</td>\n",
       "      <td>Friday</td>\n",
       "      <td>Evening</td>\n",
       "      <td>97.51</td>\n",
       "      <td>0.0</td>\n",
       "      <td>Positive</td>\n",
       "    </tr>\n",
       "    <tr>\n",
       "      <th>3</th>\n",
       "      <td>750003</td>\n",
       "      <td>Comedy Corner</td>\n",
       "      <td>Episode 73</td>\n",
       "      <td>115.39</td>\n",
       "      <td>Comedy</td>\n",
       "      <td>23.40</td>\n",
       "      <td>Sunday</td>\n",
       "      <td>Morning</td>\n",
       "      <td>51.75</td>\n",
       "      <td>2.0</td>\n",
       "      <td>Positive</td>\n",
       "    </tr>\n",
       "    <tr>\n",
       "      <th>4</th>\n",
       "      <td>750004</td>\n",
       "      <td>Life Lessons</td>\n",
       "      <td>Episode 50</td>\n",
       "      <td>72.32</td>\n",
       "      <td>Lifestyle</td>\n",
       "      <td>58.10</td>\n",
       "      <td>Wednesday</td>\n",
       "      <td>Morning</td>\n",
       "      <td>11.30</td>\n",
       "      <td>2.0</td>\n",
       "      <td>Neutral</td>\n",
       "    </tr>\n",
       "  </tbody>\n",
       "</table>\n",
       "</div>"
      ],
      "text/plain": [
       "       id         Podcast_Name Episode_Title  Episode_Length_minutes  \\\n",
       "0  750000  Educational Nuggets    Episode 73                   78.96   \n",
       "1  750001          Sound Waves    Episode 23                   27.87   \n",
       "2  750002        Joke Junction    Episode 11                   69.10   \n",
       "3  750003        Comedy Corner    Episode 73                  115.39   \n",
       "4  750004         Life Lessons    Episode 50                   72.32   \n",
       "\n",
       "       Genre  Host_Popularity_percentage Publication_Day Publication_Time  \\\n",
       "0  Education                       38.11        Saturday          Evening   \n",
       "1      Music                       71.29          Sunday          Morning   \n",
       "2     Comedy                       67.89          Friday          Evening   \n",
       "3     Comedy                       23.40          Sunday          Morning   \n",
       "4  Lifestyle                       58.10       Wednesday          Morning   \n",
       "\n",
       "   Guest_Popularity_percentage  Number_of_Ads Episode_Sentiment  \n",
       "0                        53.33            1.0           Neutral  \n",
       "1                          NaN            0.0           Neutral  \n",
       "2                        97.51            0.0          Positive  \n",
       "3                        51.75            2.0          Positive  \n",
       "4                        11.30            2.0           Neutral  "
      ]
     },
     "execution_count": 5,
     "metadata": {},
     "output_type": "execute_result"
    }
   ],
   "source": [
    "test.head()"
   ]
  },
  {
   "cell_type": "code",
   "execution_count": 6,
   "id": "130d297b",
   "metadata": {
    "execution": {
     "iopub.execute_input": "2025-07-10T09:24:49.932290Z",
     "iopub.status.busy": "2025-07-10T09:24:49.931502Z",
     "iopub.status.idle": "2025-07-10T09:24:49.937044Z",
     "shell.execute_reply": "2025-07-10T09:24:49.936171Z"
    },
    "papermill": {
     "duration": 0.012518,
     "end_time": "2025-07-10T09:24:49.938370",
     "exception": false,
     "start_time": "2025-07-10T09:24:49.925852",
     "status": "completed"
    },
    "tags": []
   },
   "outputs": [
    {
     "data": {
      "text/plain": [
       "(250000, 11)"
      ]
     },
     "execution_count": 6,
     "metadata": {},
     "output_type": "execute_result"
    }
   ],
   "source": [
    "test.shape"
   ]
  },
  {
   "cell_type": "code",
   "execution_count": 7,
   "id": "ebdcbb97",
   "metadata": {
    "execution": {
     "iopub.execute_input": "2025-07-10T09:24:49.950595Z",
     "iopub.status.busy": "2025-07-10T09:24:49.949708Z",
     "iopub.status.idle": "2025-07-10T09:24:49.957709Z",
     "shell.execute_reply": "2025-07-10T09:24:49.956992Z"
    },
    "papermill": {
     "duration": 0.015475,
     "end_time": "2025-07-10T09:24:49.959108",
     "exception": false,
     "start_time": "2025-07-10T09:24:49.943633",
     "status": "completed"
    },
    "tags": []
   },
   "outputs": [
    {
     "data": {
      "text/html": [
       "<div>\n",
       "<style scoped>\n",
       "    .dataframe tbody tr th:only-of-type {\n",
       "        vertical-align: middle;\n",
       "    }\n",
       "\n",
       "    .dataframe tbody tr th {\n",
       "        vertical-align: top;\n",
       "    }\n",
       "\n",
       "    .dataframe thead th {\n",
       "        text-align: right;\n",
       "    }\n",
       "</style>\n",
       "<table border=\"1\" class=\"dataframe\">\n",
       "  <thead>\n",
       "    <tr style=\"text-align: right;\">\n",
       "      <th></th>\n",
       "      <th>id</th>\n",
       "      <th>Listening_Time_minutes</th>\n",
       "    </tr>\n",
       "  </thead>\n",
       "  <tbody>\n",
       "    <tr>\n",
       "      <th>0</th>\n",
       "      <td>750000</td>\n",
       "      <td>45.437</td>\n",
       "    </tr>\n",
       "    <tr>\n",
       "      <th>1</th>\n",
       "      <td>750001</td>\n",
       "      <td>45.437</td>\n",
       "    </tr>\n",
       "    <tr>\n",
       "      <th>2</th>\n",
       "      <td>750002</td>\n",
       "      <td>45.437</td>\n",
       "    </tr>\n",
       "    <tr>\n",
       "      <th>3</th>\n",
       "      <td>750003</td>\n",
       "      <td>45.437</td>\n",
       "    </tr>\n",
       "    <tr>\n",
       "      <th>4</th>\n",
       "      <td>750004</td>\n",
       "      <td>45.437</td>\n",
       "    </tr>\n",
       "  </tbody>\n",
       "</table>\n",
       "</div>"
      ],
      "text/plain": [
       "       id  Listening_Time_minutes\n",
       "0  750000                  45.437\n",
       "1  750001                  45.437\n",
       "2  750002                  45.437\n",
       "3  750003                  45.437\n",
       "4  750004                  45.437"
      ]
     },
     "execution_count": 7,
     "metadata": {},
     "output_type": "execute_result"
    }
   ],
   "source": [
    "submission.head()"
   ]
  },
  {
   "cell_type": "code",
   "execution_count": 8,
   "id": "0a33443f",
   "metadata": {
    "execution": {
     "iopub.execute_input": "2025-07-10T09:24:49.971337Z",
     "iopub.status.busy": "2025-07-10T09:24:49.970373Z",
     "iopub.status.idle": "2025-07-10T09:24:49.976102Z",
     "shell.execute_reply": "2025-07-10T09:24:49.975357Z"
    },
    "papermill": {
     "duration": 0.01305,
     "end_time": "2025-07-10T09:24:49.977331",
     "exception": false,
     "start_time": "2025-07-10T09:24:49.964281",
     "status": "completed"
    },
    "tags": []
   },
   "outputs": [
    {
     "data": {
      "text/plain": [
       "(250000, 2)"
      ]
     },
     "execution_count": 8,
     "metadata": {},
     "output_type": "execute_result"
    }
   ],
   "source": [
    "submission.shape"
   ]
  },
  {
   "cell_type": "markdown",
   "id": "6a972f9f",
   "metadata": {
    "papermill": {
     "duration": 0.004618,
     "end_time": "2025-07-10T09:24:49.986948",
     "exception": false,
     "start_time": "2025-07-10T09:24:49.982330",
     "status": "completed"
    },
    "tags": []
   },
   "source": [
    "# Data Handling & Cleaning"
   ]
  },
  {
   "cell_type": "code",
   "execution_count": 9,
   "id": "1d0e5c80",
   "metadata": {
    "execution": {
     "iopub.execute_input": "2025-07-10T09:24:49.998125Z",
     "iopub.status.busy": "2025-07-10T09:24:49.997633Z",
     "iopub.status.idle": "2025-07-10T09:24:50.090342Z",
     "shell.execute_reply": "2025-07-10T09:24:50.089441Z"
    },
    "papermill": {
     "duration": 0.100206,
     "end_time": "2025-07-10T09:24:50.091956",
     "exception": false,
     "start_time": "2025-07-10T09:24:49.991750",
     "status": "completed"
    },
    "tags": []
   },
   "outputs": [],
   "source": [
    "# Filling NaN values in both train and test dataset \n",
    "# Use mode from train for both train and test\n",
    "train[\"Episode_Length_minutes\"] = train[\"Episode_Length_minutes\"].fillna(train[\"Episode_Length_minutes\"].mode()[0])\n",
    "test[\"Episode_Length_minutes\"] = test[\"Episode_Length_minutes\"].fillna(train[\"Episode_Length_minutes\"].mode()[0])\n",
    "\n",
    "train[\"Guest_Popularity_percentage\"] = train[\"Guest_Popularity_percentage\"].fillna(train[\"Guest_Popularity_percentage\"].mode()[0])\n",
    "test[\"Guest_Popularity_percentage\"] = test[\"Guest_Popularity_percentage\"].fillna(train[\"Guest_Popularity_percentage\"].mode()[0])\n",
    "\n"
   ]
  },
  {
   "cell_type": "code",
   "execution_count": 10,
   "id": "32b00c0d",
   "metadata": {
    "execution": {
     "iopub.execute_input": "2025-07-10T09:24:50.103534Z",
     "iopub.status.busy": "2025-07-10T09:24:50.102754Z",
     "iopub.status.idle": "2025-07-10T09:24:50.729521Z",
     "shell.execute_reply": "2025-07-10T09:24:50.728676Z"
    },
    "papermill": {
     "duration": 0.634108,
     "end_time": "2025-07-10T09:24:50.731189",
     "exception": false,
     "start_time": "2025-07-10T09:24:50.097081",
     "status": "completed"
    },
    "tags": []
   },
   "outputs": [
    {
     "data": {
      "text/plain": [
       "0"
      ]
     },
     "execution_count": 10,
     "metadata": {},
     "output_type": "execute_result"
    }
   ],
   "source": [
    "train.duplicated().sum()\n",
    "test.duplicated().sum()"
   ]
  },
  {
   "cell_type": "code",
   "execution_count": 11,
   "id": "05abcb19",
   "metadata": {
    "execution": {
     "iopub.execute_input": "2025-07-10T09:24:50.744857Z",
     "iopub.status.busy": "2025-07-10T09:24:50.744116Z",
     "iopub.status.idle": "2025-07-10T09:24:50.810226Z",
     "shell.execute_reply": "2025-07-10T09:24:50.809208Z"
    },
    "papermill": {
     "duration": 0.074156,
     "end_time": "2025-07-10T09:24:50.811905",
     "exception": false,
     "start_time": "2025-07-10T09:24:50.737749",
     "status": "completed"
    },
    "tags": []
   },
   "outputs": [],
   "source": [
    "# Drop only 'Episode_Title' — keep 'id' in both\n",
    "train.drop(columns=[\"Episode_Title\"], inplace=True)\n",
    "test.drop(columns=[\"Episode_Title\"], inplace=True)"
   ]
  },
  {
   "cell_type": "markdown",
   "id": "b67781d3",
   "metadata": {
    "papermill": {
     "duration": 0.004885,
     "end_time": "2025-07-10T09:24:50.822033",
     "exception": false,
     "start_time": "2025-07-10T09:24:50.817148",
     "status": "completed"
    },
    "tags": []
   },
   "source": [
    "# EDA, Machine learning & Visualization"
   ]
  },
  {
   "cell_type": "code",
   "execution_count": 12,
   "id": "e78451eb",
   "metadata": {
    "execution": {
     "iopub.execute_input": "2025-07-10T09:24:50.833906Z",
     "iopub.status.busy": "2025-07-10T09:24:50.833170Z",
     "iopub.status.idle": "2025-07-10T09:24:51.092365Z",
     "shell.execute_reply": "2025-07-10T09:24:51.091496Z"
    },
    "papermill": {
     "duration": 0.266792,
     "end_time": "2025-07-10T09:24:51.093835",
     "exception": false,
     "start_time": "2025-07-10T09:24:50.827043",
     "status": "completed"
    },
    "tags": []
   },
   "outputs": [
    {
     "data": {
      "image/png": "[encoded data removed]",
      "text/plain": [
       "<Figure size 800x400 with 1 Axes>"
      ]
     },
     "metadata": {},
     "output_type": "display_data"
    }
   ],
   "source": [
    "import seaborn as sns\n",
    "import matplotlib.pyplot as plt\n",
    "\n",
    "plt.figure(figsize=(8, 4))\n",
    "sns.boxplot(x=train[\"Listening_Time_minutes\"], color='teal')\n",
    "plt.title(\"Distribution of Listening Time (minutes)\")\n",
    "plt.xlabel(\"Listening Time (minutes)\")\n",
    "plt.tight_layout()\n",
    "plt.show()\n"
   ]
  },
  {
   "cell_type": "code",
   "execution_count": 13,
   "id": "1662ac51",
   "metadata": {
    "execution": {
     "iopub.execute_input": "2025-07-10T09:24:51.106738Z",
     "iopub.status.busy": "2025-07-10T09:24:51.106394Z",
     "iopub.status.idle": "2025-07-10T09:24:51.120999Z",
     "shell.execute_reply": "2025-07-10T09:24:51.120193Z"
    },
    "papermill": {
     "duration": 0.02259,
     "end_time": "2025-07-10T09:24:51.122448",
     "exception": false,
     "start_time": "2025-07-10T09:24:51.099858",
     "status": "completed"
    },
    "tags": []
   },
   "outputs": [
    {
     "data": {
      "text/html": [
       "<div>\n",
       "<style scoped>\n",
       "    .dataframe tbody tr th:only-of-type {\n",
       "        vertical-align: middle;\n",
       "    }\n",
       "\n",
       "    .dataframe tbody tr th {\n",
       "        vertical-align: top;\n",
       "    }\n",
       "\n",
       "    .dataframe thead th {\n",
       "        text-align: right;\n",
       "    }\n",
       "</style>\n",
       "<table border=\"1\" class=\"dataframe\">\n",
       "  <thead>\n",
       "    <tr style=\"text-align: right;\">\n",
       "      <th></th>\n",
       "      <th>id</th>\n",
       "      <th>Podcast_Name</th>\n",
       "      <th>Episode_Length_minutes</th>\n",
       "      <th>Genre</th>\n",
       "      <th>Host_Popularity_percentage</th>\n",
       "      <th>Publication_Day</th>\n",
       "      <th>Publication_Time</th>\n",
       "      <th>Guest_Popularity_percentage</th>\n",
       "      <th>Number_of_Ads</th>\n",
       "      <th>Episode_Sentiment</th>\n",
       "      <th>Listening_Time_minutes</th>\n",
       "    </tr>\n",
       "  </thead>\n",
       "  <tbody>\n",
       "    <tr>\n",
       "      <th>0</th>\n",
       "      <td>0</td>\n",
       "      <td>Mystery Matters</td>\n",
       "      <td>6.60</td>\n",
       "      <td>True Crime</td>\n",
       "      <td>74.81</td>\n",
       "      <td>Thursday</td>\n",
       "      <td>Night</td>\n",
       "      <td>68.53</td>\n",
       "      <td>0.0</td>\n",
       "      <td>Positive</td>\n",
       "      <td>31.41998</td>\n",
       "    </tr>\n",
       "    <tr>\n",
       "      <th>1</th>\n",
       "      <td>1</td>\n",
       "      <td>Joke Junction</td>\n",
       "      <td>119.80</td>\n",
       "      <td>Comedy</td>\n",
       "      <td>66.95</td>\n",
       "      <td>Saturday</td>\n",
       "      <td>Afternoon</td>\n",
       "      <td>75.95</td>\n",
       "      <td>2.0</td>\n",
       "      <td>Negative</td>\n",
       "      <td>88.01241</td>\n",
       "    </tr>\n",
       "    <tr>\n",
       "      <th>2</th>\n",
       "      <td>2</td>\n",
       "      <td>Study Sessions</td>\n",
       "      <td>73.90</td>\n",
       "      <td>Education</td>\n",
       "      <td>69.97</td>\n",
       "      <td>Tuesday</td>\n",
       "      <td>Evening</td>\n",
       "      <td>8.97</td>\n",
       "      <td>0.0</td>\n",
       "      <td>Negative</td>\n",
       "      <td>44.92531</td>\n",
       "    </tr>\n",
       "    <tr>\n",
       "      <th>3</th>\n",
       "      <td>3</td>\n",
       "      <td>Digital Digest</td>\n",
       "      <td>67.17</td>\n",
       "      <td>Technology</td>\n",
       "      <td>57.22</td>\n",
       "      <td>Monday</td>\n",
       "      <td>Morning</td>\n",
       "      <td>78.70</td>\n",
       "      <td>2.0</td>\n",
       "      <td>Positive</td>\n",
       "      <td>46.27824</td>\n",
       "    </tr>\n",
       "    <tr>\n",
       "      <th>4</th>\n",
       "      <td>4</td>\n",
       "      <td>Mind &amp; Body</td>\n",
       "      <td>110.51</td>\n",
       "      <td>Health</td>\n",
       "      <td>80.07</td>\n",
       "      <td>Monday</td>\n",
       "      <td>Afternoon</td>\n",
       "      <td>58.68</td>\n",
       "      <td>3.0</td>\n",
       "      <td>Neutral</td>\n",
       "      <td>75.61031</td>\n",
       "    </tr>\n",
       "  </tbody>\n",
       "</table>\n",
       "</div>"
      ],
      "text/plain": [
       "   id     Podcast_Name  Episode_Length_minutes       Genre  \\\n",
       "0   0  Mystery Matters                    6.60  True Crime   \n",
       "1   1    Joke Junction                  119.80      Comedy   \n",
       "2   2   Study Sessions                   73.90   Education   \n",
       "3   3   Digital Digest                   67.17  Technology   \n",
       "4   4      Mind & Body                  110.51      Health   \n",
       "\n",
       "   Host_Popularity_percentage Publication_Day Publication_Time  \\\n",
       "0                       74.81        Thursday            Night   \n",
       "1                       66.95        Saturday        Afternoon   \n",
       "2                       69.97         Tuesday          Evening   \n",
       "3                       57.22          Monday          Morning   \n",
       "4                       80.07          Monday        Afternoon   \n",
       "\n",
       "   Guest_Popularity_percentage  Number_of_Ads Episode_Sentiment  \\\n",
       "0                        68.53            0.0          Positive   \n",
       "1                        75.95            2.0          Negative   \n",
       "2                         8.97            0.0          Negative   \n",
       "3                        78.70            2.0          Positive   \n",
       "4                        58.68            3.0           Neutral   \n",
       "\n",
       "   Listening_Time_minutes  \n",
       "0                31.41998  \n",
       "1                88.01241  \n",
       "2                44.92531  \n",
       "3                46.27824  \n",
       "4                75.61031  "
      ]
     },
     "execution_count": 13,
     "metadata": {},
     "output_type": "execute_result"
    }
   ],
   "source": [
    "train.head()"
   ]
  },
  {
   "cell_type": "code",
   "execution_count": 14,
   "id": "a8e3be90",
   "metadata": {
    "execution": {
     "iopub.execute_input": "2025-07-10T09:24:51.135839Z",
     "iopub.status.busy": "2025-07-10T09:24:51.135510Z",
     "iopub.status.idle": "2025-07-10T09:24:51.141354Z",
     "shell.execute_reply": "2025-07-10T09:24:51.140503Z"
    },
    "papermill": {
     "duration": 0.014475,
     "end_time": "2025-07-10T09:24:51.142786",
     "exception": false,
     "start_time": "2025-07-10T09:24:51.128311",
     "status": "completed"
    },
    "tags": []
   },
   "outputs": [
    {
     "data": {
      "text/plain": [
       "Index(['id', 'Podcast_Name', 'Episode_Length_minutes', 'Genre',\n",
       "       'Host_Popularity_percentage', 'Publication_Day', 'Publication_Time',\n",
       "       'Guest_Popularity_percentage', 'Number_of_Ads', 'Episode_Sentiment',\n",
       "       'Listening_Time_minutes'],\n",
       "      dtype='object')"
      ]
     },
     "execution_count": 14,
     "metadata": {},
     "output_type": "execute_result"
    }
   ],
   "source": [
    "train.columns"
   ]
  },
  {
   "cell_type": "code",
   "execution_count": 15,
   "id": "835fc2fd",
   "metadata": {
    "execution": {
     "iopub.execute_input": "2025-07-10T09:24:51.155640Z",
     "iopub.status.busy": "2025-07-10T09:24:51.155297Z",
     "iopub.status.idle": "2025-07-10T09:24:51.204041Z",
     "shell.execute_reply": "2025-07-10T09:24:51.202947Z"
    },
    "papermill": {
     "duration": 0.057145,
     "end_time": "2025-07-10T09:24:51.205732",
     "exception": false,
     "start_time": "2025-07-10T09:24:51.148587",
     "status": "completed"
    },
    "tags": []
   },
   "outputs": [
    {
     "data": {
      "text/plain": [
       "Index(['id', 'Episode_Length_minutes', 'Host_Popularity_percentage',\n",
       "       'Guest_Popularity_percentage', 'Number_of_Ads',\n",
       "       'Listening_Time_minutes'],\n",
       "      dtype='object')"
      ]
     },
     "execution_count": 15,
     "metadata": {},
     "output_type": "execute_result"
    }
   ],
   "source": [
    "train.select_dtypes(include=\"number\").columns"
   ]
  },
  {
   "cell_type": "code",
   "execution_count": 16,
   "id": "43449e26",
   "metadata": {
    "execution": {
     "iopub.execute_input": "2025-07-10T09:24:51.221648Z",
     "iopub.status.busy": "2025-07-10T09:24:51.220396Z",
     "iopub.status.idle": "2025-07-10T09:24:52.957291Z",
     "shell.execute_reply": "2025-07-10T09:24:52.956640Z"
    },
    "papermill": {
     "duration": 1.745982,
     "end_time": "2025-07-10T09:24:52.958853",
     "exception": false,
     "start_time": "2025-07-10T09:24:51.212871",
     "status": "completed"
    },
    "tags": []
   },
   "outputs": [
    {
     "name": "stdout",
     "output_type": "stream",
     "text": [
      "Final shape: (750000, 73)\n"
     ]
    },
    {
     "data": {
      "text/html": [
       "<div>\n",
       "<style scoped>\n",
       "    .dataframe tbody tr th:only-of-type {\n",
       "        vertical-align: middle;\n",
       "    }\n",
       "\n",
       "    .dataframe tbody tr th {\n",
       "        vertical-align: top;\n",
       "    }\n",
       "\n",
       "    .dataframe thead th {\n",
       "        text-align: right;\n",
       "    }\n",
       "</style>\n",
       "<table border=\"1\" class=\"dataframe\">\n",
       "  <thead>\n",
       "    <tr style=\"text-align: right;\">\n",
       "      <th></th>\n",
       "      <th>Podcast_Name_Brain Boost</th>\n",
       "      <th>Podcast_Name_Business Briefs</th>\n",
       "      <th>Podcast_Name_Business Insights</th>\n",
       "      <th>Podcast_Name_Comedy Corner</th>\n",
       "      <th>Podcast_Name_Crime Chronicles</th>\n",
       "      <th>Podcast_Name_Criminal Minds</th>\n",
       "      <th>Podcast_Name_Current Affairs</th>\n",
       "      <th>Podcast_Name_Daily Digest</th>\n",
       "      <th>Podcast_Name_Detective Diaries</th>\n",
       "      <th>Podcast_Name_Digital Digest</th>\n",
       "      <th>...</th>\n",
       "      <th>Publication_Time_Morning</th>\n",
       "      <th>Publication_Time_Night</th>\n",
       "      <th>Episode_Sentiment_Neutral</th>\n",
       "      <th>Episode_Sentiment_Positive</th>\n",
       "      <th>id</th>\n",
       "      <th>Episode_Length_minutes</th>\n",
       "      <th>Host_Popularity_percentage</th>\n",
       "      <th>Guest_Popularity_percentage</th>\n",
       "      <th>Number_of_Ads</th>\n",
       "      <th>Listening_Time_minutes</th>\n",
       "    </tr>\n",
       "  </thead>\n",
       "  <tbody>\n",
       "    <tr>\n",
       "      <th>0</th>\n",
       "      <td>0</td>\n",
       "      <td>0</td>\n",
       "      <td>0</td>\n",
       "      <td>0</td>\n",
       "      <td>0</td>\n",
       "      <td>0</td>\n",
       "      <td>0</td>\n",
       "      <td>0</td>\n",
       "      <td>0</td>\n",
       "      <td>0</td>\n",
       "      <td>...</td>\n",
       "      <td>0</td>\n",
       "      <td>1</td>\n",
       "      <td>0</td>\n",
       "      <td>1</td>\n",
       "      <td>0</td>\n",
       "      <td>6.60</td>\n",
       "      <td>74.81</td>\n",
       "      <td>68.53</td>\n",
       "      <td>0.0</td>\n",
       "      <td>31.41998</td>\n",
       "    </tr>\n",
       "    <tr>\n",
       "      <th>1</th>\n",
       "      <td>0</td>\n",
       "      <td>0</td>\n",
       "      <td>0</td>\n",
       "      <td>0</td>\n",
       "      <td>0</td>\n",
       "      <td>0</td>\n",
       "      <td>0</td>\n",
       "      <td>0</td>\n",
       "      <td>0</td>\n",
       "      <td>0</td>\n",
       "      <td>...</td>\n",
       "      <td>0</td>\n",
       "      <td>0</td>\n",
       "      <td>0</td>\n",
       "      <td>0</td>\n",
       "      <td>1</td>\n",
       "      <td>119.80</td>\n",
       "      <td>66.95</td>\n",
       "      <td>75.95</td>\n",
       "      <td>2.0</td>\n",
       "      <td>88.01241</td>\n",
       "    </tr>\n",
       "    <tr>\n",
       "      <th>2</th>\n",
       "      <td>0</td>\n",
       "      <td>0</td>\n",
       "      <td>0</td>\n",
       "      <td>0</td>\n",
       "      <td>0</td>\n",
       "      <td>0</td>\n",
       "      <td>0</td>\n",
       "      <td>0</td>\n",
       "      <td>0</td>\n",
       "      <td>0</td>\n",
       "      <td>...</td>\n",
       "      <td>0</td>\n",
       "      <td>0</td>\n",
       "      <td>0</td>\n",
       "      <td>0</td>\n",
       "      <td>2</td>\n",
       "      <td>73.90</td>\n",
       "      <td>69.97</td>\n",
       "      <td>8.97</td>\n",
       "      <td>0.0</td>\n",
       "      <td>44.92531</td>\n",
       "    </tr>\n",
       "    <tr>\n",
       "      <th>3</th>\n",
       "      <td>0</td>\n",
       "      <td>0</td>\n",
       "      <td>0</td>\n",
       "      <td>0</td>\n",
       "      <td>0</td>\n",
       "      <td>0</td>\n",
       "      <td>0</td>\n",
       "      <td>0</td>\n",
       "      <td>0</td>\n",
       "      <td>1</td>\n",
       "      <td>...</td>\n",
       "      <td>1</td>\n",
       "      <td>0</td>\n",
       "      <td>0</td>\n",
       "      <td>1</td>\n",
       "      <td>3</td>\n",
       "      <td>67.17</td>\n",
       "      <td>57.22</td>\n",
       "      <td>78.70</td>\n",
       "      <td>2.0</td>\n",
       "      <td>46.27824</td>\n",
       "    </tr>\n",
       "    <tr>\n",
       "      <th>4</th>\n",
       "      <td>0</td>\n",
       "      <td>0</td>\n",
       "      <td>0</td>\n",
       "      <td>0</td>\n",
       "      <td>0</td>\n",
       "      <td>0</td>\n",
       "      <td>0</td>\n",
       "      <td>0</td>\n",
       "      <td>0</td>\n",
       "      <td>0</td>\n",
       "      <td>...</td>\n",
       "      <td>0</td>\n",
       "      <td>0</td>\n",
       "      <td>1</td>\n",
       "      <td>0</td>\n",
       "      <td>4</td>\n",
       "      <td>110.51</td>\n",
       "      <td>80.07</td>\n",
       "      <td>58.68</td>\n",
       "      <td>3.0</td>\n",
       "      <td>75.61031</td>\n",
       "    </tr>\n",
       "  </tbody>\n",
       "</table>\n",
       "<p>5 rows × 73 columns</p>\n",
       "</div>"
      ],
      "text/plain": [
       "   Podcast_Name_Brain Boost  Podcast_Name_Business Briefs  \\\n",
       "0                         0                             0   \n",
       "1                         0                             0   \n",
       "2                         0                             0   \n",
       "3                         0                             0   \n",
       "4                         0                             0   \n",
       "\n",
       "   Podcast_Name_Business Insights  Podcast_Name_Comedy Corner  \\\n",
       "0                               0                           0   \n",
       "1                               0                           0   \n",
       "2                               0                           0   \n",
       "3                               0                           0   \n",
       "4                               0                           0   \n",
       "\n",
       "   Podcast_Name_Crime Chronicles  Podcast_Name_Criminal Minds  \\\n",
       "0                              0                            0   \n",
       "1                              0                            0   \n",
       "2                              0                            0   \n",
       "3                              0                            0   \n",
       "4                              0                            0   \n",
       "\n",
       "   Podcast_Name_Current Affairs  Podcast_Name_Daily Digest  \\\n",
       "0                             0                          0   \n",
       "1                             0                          0   \n",
       "2                             0                          0   \n",
       "3                             0                          0   \n",
       "4                             0                          0   \n",
       "\n",
       "   Podcast_Name_Detective Diaries  Podcast_Name_Digital Digest  ...  \\\n",
       "0                               0                            0  ...   \n",
       "1                               0                            0  ...   \n",
       "2                               0                            0  ...   \n",
       "3                               0                            1  ...   \n",
       "4                               0                            0  ...   \n",
       "\n",
       "   Publication_Time_Morning  Publication_Time_Night  \\\n",
       "0                         0                       1   \n",
       "1                         0                       0   \n",
       "2                         0                       0   \n",
       "3                         1                       0   \n",
       "4                         0                       0   \n",
       "\n",
       "   Episode_Sentiment_Neutral  Episode_Sentiment_Positive  id  \\\n",
       "0                          0                           1   0   \n",
       "1                          0                           0   1   \n",
       "2                          0                           0   2   \n",
       "3                          0                           1   3   \n",
       "4                          1                           0   4   \n",
       "\n",
       "   Episode_Length_minutes  Host_Popularity_percentage  \\\n",
       "0                    6.60                       74.81   \n",
       "1                  119.80                       66.95   \n",
       "2                   73.90                       69.97   \n",
       "3                   67.17                       57.22   \n",
       "4                  110.51                       80.07   \n",
       "\n",
       "   Guest_Popularity_percentage  Number_of_Ads  Listening_Time_minutes  \n",
       "0                        68.53            0.0                31.41998  \n",
       "1                        75.95            2.0                88.01241  \n",
       "2                         8.97            0.0                44.92531  \n",
       "3                        78.70            2.0                46.27824  \n",
       "4                        58.68            3.0                75.61031  \n",
       "\n",
       "[5 rows x 73 columns]"
      ]
     },
     "execution_count": 16,
     "metadata": {},
     "output_type": "execute_result"
    }
   ],
   "source": [
    "import pandas as pd\n",
    "\n",
    "# ✅ Step 1: Specify categorical columns\n",
    "cols_to_encode = [\"Podcast_Name\", \"Genre\", \"Publication_Day\", \"Publication_Time\", \"Episode_Sentiment\"]\n",
    "\n",
    "# ✅ Step 2: Select numeric columns explicitly\n",
    "num_cols = train[['id', 'Episode_Length_minutes', 'Host_Popularity_percentage',\n",
    "                  'Guest_Popularity_percentage', 'Number_of_Ads', 'Listening_Time_minutes']]\n",
    "\n",
    "# ✅ Step 3: Apply pd.get_dummies to encode categorical columns\n",
    "encoded_cat = pd.get_dummies(train[cols_to_encode], drop_first=True).astype(\"int\")\n",
    "\n",
    "# ✅ Step 4: Concatenate encoded categorical columns with numeric columns\n",
    "train_fdf = pd.concat([encoded_cat, num_cols], axis=1)\n",
    "\n",
    "# Encode categorical columns in test set\n",
    "test_encoded = pd.get_dummies(test[cols_to_encode], drop_first=True)\n",
    "\n",
    "# Align with training columns\n",
    "test_encoded = test_encoded.reindex(columns=train_fdf.drop(columns=[\"Listening_Time_minutes\"]).columns, fill_value=0)\n",
    "\n",
    "# Convert to int (optional safety)\n",
    "test_encoded = test_encoded.astype(\"int\")\n",
    "\n",
    "# ✅ Step 5: Check final shape or preview\n",
    "print(\"Final shape:\", train_fdf.shape)\n",
    "train_fdf.head()\n",
    "train_fdf.isna().sum()\n",
    "train_fdf.dropna(inplace=True)\n",
    "train_fdf.head()"
   ]
  },
  {
   "cell_type": "markdown",
   "id": "c0884a5b",
   "metadata": {
    "papermill": {
     "duration": 0.006045,
     "end_time": "2025-07-10T09:24:52.971296",
     "exception": false,
     "start_time": "2025-07-10T09:24:52.965251",
     "status": "completed"
    },
    "tags": []
   },
   "source": [
    "# Models"
   ]
  },
  {
   "cell_type": "code",
   "execution_count": 17,
   "id": "ff3981de",
   "metadata": {
    "execution": {
     "iopub.execute_input": "2025-07-10T09:24:52.985257Z",
     "iopub.status.busy": "2025-07-10T09:24:52.984572Z",
     "iopub.status.idle": "2025-07-10T09:24:52.988739Z",
     "shell.execute_reply": "2025-07-10T09:24:52.987917Z"
    },
    "papermill": {
     "duration": 0.012407,
     "end_time": "2025-07-10T09:24:52.990055",
     "exception": false,
     "start_time": "2025-07-10T09:24:52.977648",
     "status": "completed"
    },
    "tags": []
   },
   "outputs": [],
   "source": [
    "model_lr = LinearRegression()\n",
    "model_rf = RandomForestRegressor()\n",
    "model_gb = GradientBoostingRegressor()"
   ]
  },
  {
   "cell_type": "markdown",
   "id": "9d91ad7f",
   "metadata": {
    "papermill": {
     "duration": 0.005796,
     "end_time": "2025-07-10T09:24:53.002118",
     "exception": false,
     "start_time": "2025-07-10T09:24:52.996322",
     "status": "completed"
    },
    "tags": []
   },
   "source": [
    "# Linear Regression Model "
   ]
  },
  {
   "cell_type": "code",
   "execution_count": 18,
   "id": "116f3975",
   "metadata": {
    "execution": {
     "iopub.execute_input": "2025-07-10T09:24:53.015591Z",
     "iopub.status.busy": "2025-07-10T09:24:53.015187Z",
     "iopub.status.idle": "2025-07-10T09:24:59.030786Z",
     "shell.execute_reply": "2025-07-10T09:24:59.029964Z"
    },
    "papermill": {
     "duration": 6.024523,
     "end_time": "2025-07-10T09:24:59.032677",
     "exception": false,
     "start_time": "2025-07-10T09:24:53.008154",
     "status": "completed"
    },
    "tags": []
   },
   "outputs": [
    {
     "data": {
      "text/html": [
       "<style>#sk-container-id-1 {color: black;background-color: white;}#sk-container-id-1 pre{padding: 0;}#sk-container-id-1 div.sk-toggleable {background-color: white;}#sk-container-id-1 label.sk-toggleable__label {cursor: pointer;display: block;width: 100%;margin-bottom: 0;padding: 0.3em;box-sizing: border-box;text-align: center;}#sk-container-id-1 label.sk-toggleable__label-arrow:before {content: \"▸\";float: left;margin-right: 0.25em;color: #696969;}#sk-container-id-1 label.sk-toggleable__label-arrow:hover:before {color: black;}#sk-container-id-1 div.sk-estimator:hover label.sk-toggleable__label-arrow:before {color: black;}#sk-container-id-1 div.sk-toggleable__content {max-height: 0;max-width: 0;overflow: hidden;text-align: left;background-color: #f0f8ff;}#sk-container-id-1 div.sk-toggleable__content pre {margin: 0.2em;color: black;border-radius: 0.25em;background-color: #f0f8ff;}#sk-container-id-1 input.sk-toggleable__control:checked~div.sk-toggleable__content {max-height: 200px;max-width: 100%;overflow: auto;}#sk-container-id-1 input.sk-toggleable__control:checked~label.sk-toggleable__label-arrow:before {content: \"▾\";}#sk-container-id-1 div.sk-estimator input.sk-toggleable__control:checked~label.sk-toggleable__label {background-color: #d4ebff;}#sk-container-id-1 div.sk-label input.sk-toggleable__control:checked~label.sk-toggleable__label {background-color: #d4ebff;}#sk-container-id-1 input.sk-hidden--visually {border: 0;clip: rect(1px 1px 1px 1px);clip: rect(1px, 1px, 1px, 1px);height: 1px;margin: -1px;overflow: hidden;padding: 0;position: absolute;width: 1px;}#sk-container-id-1 div.sk-estimator {font-family: monospace;background-color: #f0f8ff;border: 1px dotted black;border-radius: 0.25em;box-sizing: border-box;margin-bottom: 0.5em;}#sk-container-id-1 div.sk-estimator:hover {background-color: #d4ebff;}#sk-container-id-1 div.sk-parallel-item::after {content: \"\";width: 100%;border-bottom: 1px solid gray;flex-grow: 1;}#sk-container-id-1 div.sk-label:hover label.sk-toggleable__label {background-color: #d4ebff;}#sk-container-id-1 div.sk-serial::before {content: \"\";position: absolute;border-left: 1px solid gray;box-sizing: border-box;top: 0;bottom: 0;left: 50%;z-index: 0;}#sk-container-id-1 div.sk-serial {display: flex;flex-direction: column;align-items: center;background-color: white;padding-right: 0.2em;padding-left: 0.2em;position: relative;}#sk-container-id-1 div.sk-item {position: relative;z-index: 1;}#sk-container-id-1 div.sk-parallel {display: flex;align-items: stretch;justify-content: center;background-color: white;position: relative;}#sk-container-id-1 div.sk-item::before, #sk-container-id-1 div.sk-parallel-item::before {content: \"\";position: absolute;border-left: 1px solid gray;box-sizing: border-box;top: 0;bottom: 0;left: 50%;z-index: -1;}#sk-container-id-1 div.sk-parallel-item {display: flex;flex-direction: column;z-index: 1;position: relative;background-color: white;}#sk-container-id-1 div.sk-parallel-item:first-child::after {align-self: flex-end;width: 50%;}#sk-container-id-1 div.sk-parallel-item:last-child::after {align-self: flex-start;width: 50%;}#sk-container-id-1 div.sk-parallel-item:only-child::after {width: 0;}#sk-container-id-1 div.sk-dashed-wrapped {border: 1px dashed gray;margin: 0 0.4em 0.5em 0.4em;box-sizing: border-box;padding-bottom: 0.4em;background-color: white;}#sk-container-id-1 div.sk-label label {font-family: monospace;font-weight: bold;display: inline-block;line-height: 1.2em;}#sk-container-id-1 div.sk-label-container {text-align: center;}#sk-container-id-1 div.sk-container {/* jupyter's `normalize.less` sets `[hidden] { display: none; }` but bootstrap.min.css set `[hidden] { display: none !important; }` so we also need the `!important` here to be able to override the default hidden behavior on the sphinx rendered scikit-learn.org. See: https://github.com/scikit-learn/scikit-learn/issues/21755 */display: inline-block !important;position: relative;}#sk-container-id-1 div.sk-text-repr-fallback {display: none;}</style><div id=\"sk-container-id-1\" class=\"sk-top-container\"><div class=\"sk-text-repr-fallback\"><pre>LinearRegression()</pre><b>In a Jupyter environment, please rerun this cell to show the HTML representation or trust the notebook. <br />On GitHub, the HTML representation is unable to render, please try loading this page with nbviewer.org.</b></div><div class=\"sk-container\" hidden><div class=\"sk-item\"><div class=\"sk-estimator sk-toggleable\"><input class=\"sk-toggleable__control sk-hidden--visually\" id=\"sk-estimator-id-1\" type=\"checkbox\" checked><label for=\"sk-estimator-id-1\" class=\"sk-toggleable__label sk-toggleable__label-arrow\">LinearRegression</label><div class=\"sk-toggleable__content\"><pre>LinearRegression()</pre></div></div></div></div></div>"
      ],
      "text/plain": [
       "LinearRegression()"
      ]
     },
     "execution_count": 18,
     "metadata": {},
     "output_type": "execute_result"
    }
   ],
   "source": [
    "x=train_fdf.drop(columns=[\"Listening_Time_minutes\"])\n",
    "y=train_fdf[\"Listening_Time_minutes\"]\n",
    "x_train,x_test,y_train,y_test=train_test_split(x,y,test_size=0.2,random_state=42)\n",
    "scaler=StandardScaler()\n",
    "x_train_scaled=scaler.fit_transform(x_train)\n",
    "x_test_scaled=scaler.transform(x_test)\n",
    "model_lr=LinearRegression()\n",
    "model_lr.fit(x_train_scaled,y_train)"
   ]
  },
  {
   "cell_type": "code",
   "execution_count": 19,
   "id": "b5794ddf",
   "metadata": {
    "execution": {
     "iopub.execute_input": "2025-07-10T09:24:59.055989Z",
     "iopub.status.busy": "2025-07-10T09:24:59.055399Z",
     "iopub.status.idle": "2025-07-10T09:24:59.091133Z",
     "shell.execute_reply": "2025-07-10T09:24:59.090123Z"
    },
    "papermill": {
     "duration": 0.049051,
     "end_time": "2025-07-10T09:24:59.092575",
     "exception": false,
     "start_time": "2025-07-10T09:24:59.043524",
     "status": "completed"
    },
    "tags": []
   },
   "outputs": [
    {
     "name": "stdout",
     "output_type": "stream",
     "text": [
      "Mean Absolute Error (MAE): 12.77\n",
      "Mean Squared Error (MSE): 303.36\n",
      "Root Mean Squared Error (RMSE): 17.42\n",
      "R² Score: 0.5881\n"
     ]
    }
   ],
   "source": [
    "y_pred=model_lr.predict(x_test_scaled)\n",
    "from sklearn.metrics import mean_absolute_error, mean_squared_error, r2_score\n",
    "import numpy as np\n",
    "\n",
    "# Metrics\n",
    "mae = mean_absolute_error(y_test, y_pred)\n",
    "mse = mean_squared_error(y_test, y_pred)\n",
    "rmse = np.sqrt(mse)\n",
    "r2 = r2_score(y_test, y_pred)\n",
    "\n",
    "# Output results\n",
    "print(\"Mean Absolute Error (MAE):\", round(mae, 2))\n",
    "print(\"Mean Squared Error (MSE):\", round(mse, 2))\n",
    "print(\"Root Mean Squared Error (RMSE):\", round(rmse, 2))\n",
    "print(\"R² Score:\", round(r2, 4))\n"
   ]
  },
  {
   "cell_type": "code",
   "execution_count": 20,
   "id": "074654dd",
   "metadata": {
    "execution": {
     "iopub.execute_input": "2025-07-10T09:24:59.106982Z",
     "iopub.status.busy": "2025-07-10T09:24:59.106691Z",
     "iopub.status.idle": "2025-07-10T09:24:59.329342Z",
     "shell.execute_reply": "2025-07-10T09:24:59.328499Z"
    },
    "papermill": {
     "duration": 0.231562,
     "end_time": "2025-07-10T09:24:59.330900",
     "exception": false,
     "start_time": "2025-07-10T09:24:59.099338",
     "status": "completed"
    },
    "tags": []
   },
   "outputs": [
    {
     "data": {
      "image/png": "[encoded data removed]",
      "text/plain": [
       "<Figure size 800x500 with 1 Axes>"
      ]
     },
     "metadata": {},
     "output_type": "display_data"
    }
   ],
   "source": [
    "import matplotlib.pyplot as plt\n",
    "residuals = y_test - y_pred\n",
    "\n",
    "plt.figure(figsize=(8, 5))\n",
    "plt.hist(residuals, bins=20, color='salmon', edgecolor='black')\n",
    "plt.title(\"Residuals Distribution\")\n",
    "plt.xlabel(\"Prediction Error\")\n",
    "plt.ylabel(\"Frequency\")\n",
    "plt.tight_layout()\n",
    "plt.show()\n"
   ]
  },
  {
   "cell_type": "code",
   "execution_count": 21,
   "id": "218f7712",
   "metadata": {
    "execution": {
     "iopub.execute_input": "2025-07-10T09:24:59.345873Z",
     "iopub.status.busy": "2025-07-10T09:24:59.345576Z",
     "iopub.status.idle": "2025-07-10T09:25:00.118137Z",
     "shell.execute_reply": "2025-07-10T09:25:00.117255Z"
    },
    "papermill": {
     "duration": 0.781833,
     "end_time": "2025-07-10T09:25:00.119788",
     "exception": false,
     "start_time": "2025-07-10T09:24:59.337955",
     "status": "completed"
    },
    "tags": []
   },
   "outputs": [],
   "source": [
    "\n",
    "test_scaled = scaler.transform(test_encoded)\n",
    "test_preds = model_lr.predict(test_scaled)\n",
    "\n",
    "# fill in the submission file\n",
    "submission[\"Listening_Time_minutes\"] = test_preds\n",
    "\n",
    "# save submission\n",
    "submission.to_csv(\"my_submission.csv\", index=False)"
   ]
  }
 ],
 "metadata": {
  "kaggle": {
   "accelerator": "none",
   "dataSources": [
    {
     "databundleVersionId": 11351736,
     "sourceId": 91715,
     "sourceType": "competition"
    }
   ],
   "dockerImageVersionId": 31089,
   "isGpuEnabled": false,
   "isInternetEnabled": true,
   "language": "python",
   "sourceType": "notebook"
  },
  "kernelspec": {
   "display_name": "Python 3",
   "language": "python",
   "name": "python3"
  },
  "language_info": {
   "codemirror_mode": {
    "name": "ipython",
    "version": 3
   },
   "file_extension": ".py",
   "mimetype": "text/x-python",
   "name": "python",
   "nbconvert_exporter": "python",
   "pygments_lexer": "ipython3",
   "version": "3.11.13"
  },
  "papermill": {
   "default_parameters": {},
   "duration": 23.687201,
   "end_time": "2025-07-10T09:25:00.847521",
   "environment_variables": {},
   "exception": null,
   "input_path": "__notebook__.ipynb",
   "output_path": "__notebook__.ipynb",
   "parameters": {},
   "start_time": "2025-07-10T09:24:37.160320",
   "version": "2.6.0"
  }
 },
 "nbformat": 4,
 "nbformat_minor": 5
}
